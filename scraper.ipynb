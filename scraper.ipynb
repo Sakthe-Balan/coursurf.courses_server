{
 "cells": [
  {
   "cell_type": "code",
   "execution_count": 26,
   "metadata": {},
   "outputs": [],
   "source": [
    "import requests\n",
    "import bs4 as bs\n",
    "from bs4 import BeautifulSoup as bs\n",
    "import time\n",
    "import csv"
   ]
  },
  {
   "cell_type": "code",
   "execution_count": 27,
   "metadata": {},
   "outputs": [],
   "source": [
    "HEADERS = ({\"User-Agent\": \"Mozilla/5.0 (Windows NT 10.0; Win64; x64) AppleWebKit/537.36 (KHTML, like Gecko) Chrome/109.0.0.0 Safari/537.36 Edg/109.0.1518.78\",})"
   ]
  },
  {
   "cell_type": "code",
   "execution_count": 29,
   "metadata": {},
   "outputs": [
    {
     "ename": "KeyboardInterrupt",
     "evalue": "",
     "output_type": "error",
     "traceback": [
      "\u001b[1;31m---------------------------------------------------------------------------\u001b[0m",
      "\u001b[1;31mKeyboardInterrupt\u001b[0m                         Traceback (most recent call last)",
      "Cell \u001b[1;32mIn[29], line 3\u001b[0m\n\u001b[0;32m      1\u001b[0m Url \u001b[39m=\u001b[39m \u001b[39m\"\u001b[39m\u001b[39mhttps://www.classcentral.com/provider/coursera\u001b[39m\u001b[39m\"\u001b[39m\n\u001b[0;32m      2\u001b[0m webpage \u001b[39m=\u001b[39m requests\u001b[39m.\u001b[39mget(\u001b[39mstr\u001b[39m(Url), headers\u001b[39m=\u001b[39mHEADERS)\n\u001b[1;32m----> 3\u001b[0m time\u001b[39m.\u001b[39;49msleep(\u001b[39m2\u001b[39;49m)\n\u001b[0;32m      4\u001b[0m soup \u001b[39m=\u001b[39m bs(webpage\u001b[39m.\u001b[39mcontent, \u001b[39m\"\u001b[39m\u001b[39mlxml\u001b[39m\u001b[39m\"\u001b[39m)\n\u001b[0;32m      5\u001b[0m numberOfCourses \u001b[39m=\u001b[39m soup\u001b[39m.\u001b[39mfindAll(attrs\u001b[39m=\u001b[39m{\u001b[39m'\u001b[39m\u001b[39mclass\u001b[39m\u001b[39m'\u001b[39m:\u001b[39m'\u001b[39m\u001b[39mhidden small-up-inline-block\u001b[39m\u001b[39m'\u001b[39m})\n",
      "\u001b[1;31mKeyboardInterrupt\u001b[0m: "
     ]
    }
   ],
   "source": [
    "Url = \"https://www.classcentral.com/provider/coursera\"\n",
    "webpage = requests.get(str(Url), headers=HEADERS)\n",
    "time.sleep(2)\n",
    "soup = bs(webpage.content, \"lxml\")\n",
    "numberOfCourses = soup.findAll(attrs={'class':'hidden small-up-inline-block'})\n",
    "numberOfCourses = str(numberOfCourses[0].text.strip())\n",
    "print(\"Number of courses available: \"+numberOfCourses+\" courses\")\n",
    "numberOfCourses = numberOfCourses.split(\" \")[-1]\n",
    "numberOfPages = int(numberOfCourses)//15\n",
    "print(\"Number of pages: \"+str(numberOfPages) + \" pages\")\n",
    "\n",
    "with open('countries1.csv', 'w', encoding='UTF8', newline='') as f:\n",
    "  writer = csv.writer(f)\n",
    "  i = 1\n",
    "  while i <= numberOfPages:\n",
    "    start = time.time()\n",
    "    webpage = requests.get(str(Url+\"?page=\"+str(i)+\"&sort=rating-up\"), headers=HEADERS)\n",
    "    time.sleep(0.5)\n",
    "    soup = bs(webpage.content, \"lxml\")\n",
    "    courseName = soup.findAll(attrs={'class':'text-1 weight-semi line-tight margin-bottom-xxsmall'})\n",
    "    courseDescription = soup.findAll(attrs={'class':'color-charcoal block hover-no-underline break-word'})\n",
    "    # courseLink = soup.findAll(attrs={'class':'block hover-no-underline'})\n",
    "    courseProvider = soup.findAll(attrs={'class':'hover-underline color-charcoal text-3 margin-left-small line-tight', \"aria-label\":\"Provider\"})\n",
    "    courseDuration = soup.findAll(attrs={'class':'text-3 margin-left-small line-tight', \"aria-label\":\"Workload and duration\"})\n",
    "    coursePricing = soup.findAll(attrs={'class':'text-3 margin-left-small line-tight', \"aria-label\":\"Pricing\"})\n",
    "    if len(courseName) == 15:\n",
    "      for m in range(len(courseName)): \n",
    "        try:\n",
    "          result = [courseName[m].text.strip(), courseDescription[m].text.strip(), courseProvider[m].text.strip(), courseDuration[m].text.strip(), coursePricing[m].text.strip()]\n",
    "          writer.writerow(result)\n",
    "        except:\n",
    "          print(\"List index out of range\")\n",
    "          pass\n",
    "      end = time.time()\n",
    "      print(\"Found \" + str(len(courseName)) + \" courses in page \"+ str(i)+ \"   \" + str(numberOfPages-i) + \" pages left\" + \"   \" + str(int(end-start)) + \" seconds\" + \"    \" + str(((numberOfPages-i)/numberOfPages)*100) + \" %\")\n",
    "      i += 1\n",
    "      \n",
    "      \n",
    "    \n"
   ]
  }
 ],
 "metadata": {
  "kernelspec": {
   "display_name": "env",
   "language": "python",
   "name": "python3"
  },
  "language_info": {
   "codemirror_mode": {
    "name": "ipython",
    "version": 3
   },
   "file_extension": ".py",
   "mimetype": "text/x-python",
   "name": "python",
   "nbconvert_exporter": "python",
   "pygments_lexer": "ipython3",
   "version": "3.11.0"
  },
  "orig_nbformat": 4
 },
 "nbformat": 4,
 "nbformat_minor": 2
}
